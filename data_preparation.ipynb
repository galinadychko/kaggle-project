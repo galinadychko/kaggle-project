{
 "cells": [
  {
   "cell_type": "code",
   "execution_count": 1,
   "metadata": {
    "collapsed": true
   },
   "outputs": [],
   "source": [
    "path = \"C:\\\\users\\\\Galia\\\\desktop\\\\kaggle\\\\data\\\\egonets\""
   ]
  },
  {
   "cell_type": "code",
   "execution_count": 2,
   "metadata": {
    "collapsed": true
   },
   "outputs": [],
   "source": [
    "import networkx as nx"
   ]
  },
  {
   "cell_type": "code",
   "execution_count": 2,
   "metadata": {
    "collapsed": true
   },
   "outputs": [],
   "source": [
    "from os import listdir\n",
    "from os.path import isfile, join"
   ]
  },
  {
   "cell_type": "code",
   "execution_count": 3,
   "metadata": {
    "collapsed": true
   },
   "outputs": [],
   "source": [
    "import itertools"
   ]
  },
  {
   "cell_type": "code",
   "execution_count": 4,
   "metadata": {
    "collapsed": true
   },
   "outputs": [],
   "source": [
    "import matplotlib.pyplot as plt\n",
    "import os\n",
    "import re\n",
    "import scipy \n",
    "from scipy.sparse import *\n",
    "from operator import itemgetter\n",
    "from sklearn.cluster import KMeans\n",
    "import numpy as np\n",
    "import sys\n",
    "import pandas as pd"
   ]
  },
  {
   "cell_type": "code",
   "execution_count": 116,
   "metadata": {
    "collapsed": true
   },
   "outputs": [],
   "source": [
    "#The function takes as argument an integer in the range 0-109 and path where egonets are located \n",
    "#returns a networkx graph of the friends network of the user\n",
    "def build_graph(n, path):\n",
    "    try:\n",
    "        onlyfiles = [fyle for fyle in listdir(path) if fyle.endswith('.egonet')]\n",
    "    except:\n",
    "        print(\"Problems with detecring files UserID.egonets at the specified path\")\n",
    "    edges = []\n",
    "    nodes = []\n",
    "    egonets = onlyfiles\n",
    "    egonet = egonets[n]\n",
    "    ego = int(re.match( r'([0-9]+).egonet', egonet).group(1))\n",
    "    m = open(os.path.join(path,egonet), \"r\")\n",
    "    friends = [line[:-1].replace(\":\", \"\").split(\" \") for line in m.readlines()]\n",
    "    friends = list(list(map(int, friend[:1])) if friend[1] == '' else list(map(int, friend)) for friend in friends)\n",
    "    edges += [(ego,friend[0]) for friend in friends]\n",
    "    for friend in friends:\n",
    "        edges += [(friend[0], user) for user in friend[1:] if len(friend)>1] \n",
    "    nodes += list(itertools.chain.from_iterable(friends)) + [ego]\n",
    "    edges = list(set(tuple(sorted(edge)) for edge in edges))        \n",
    "    nodes = list(set(nodes))\n",
    "    G = nx.Graph()\n",
    "    G.add_nodes_from(nodes)\n",
    "    G.add_edges_from(edges)\n",
    "    \n",
    "    return G, nodes\n"
   ]
  },
  {
   "cell_type": "code",
   "execution_count": 117,
   "metadata": {
    "collapsed": true
   },
   "outputs": [],
   "source": [
    "#generates a CSV file with the Adjacency matrix representation of G\n",
    "\n",
    "def to_R(n, path):\n",
    "    G, nodes = build_graph(n, path)\n",
    "    A = nx.to_numpy_matrix(G)\n",
    "    df = pd.DataFrame(A, index = nodes, columns = nodes)\n",
    "    df.to_csv('graph-{}.csv'.format(n),index = True)"
   ]
  },
  {
   "cell_type": "code",
   "execution_count": 120,
   "metadata": {
    "collapsed": true
   },
   "outputs": [],
   "source": [
    "if __name__ == '__main__':\n",
    "    for n in range(110):\n",
    "        to_R(n, path)"
   ]
  }
 ],
 "metadata": {
  "kernelspec": {
   "display_name": "Python 3",
   "language": "python",
   "name": "python3"
  },
  "language_info": {
   "codemirror_mode": {
    "name": "ipython",
    "version": 3
   },
   "file_extension": ".py",
   "mimetype": "text/x-python",
   "name": "python",
   "nbconvert_exporter": "python",
   "pygments_lexer": "ipython3",
   "version": "3.6.2"
  }
 },
 "nbformat": 4,
 "nbformat_minor": 2
}
